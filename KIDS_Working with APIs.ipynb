{
 "cells": [
  {
   "cell_type": "markdown",
   "metadata": {},
   "source": [
    "# Getting Data: Working with APIs\n",
    "Aug 13, 2020 "
   ]
  },
  {
   "cell_type": "markdown",
   "metadata": {},
   "source": [
    "## Today\n",
    "\n",
    "- Introduction to APIs\n",
    "- Pulling data and shape files using Python\n",
    "    - Example: Real-time earthquake over the world"
   ]
  },
  {
   "cell_type": "markdown",
   "metadata": {},
   "source": [
    "## Introduction to APIs\n",
    "\n",
    "Or, how to pull data from the web using Python"
   ]
  },
  {
   "cell_type": "markdown",
   "metadata": {},
   "source": [
    "### Example APIs\n",
    "\n",
    "- Socrata Open Data: https://dev.socrata.com/\n",
    "- US Census Bureau: https://www.census.gov/data/developers/data-sets.html\n"
   ]
  },
  {
   "cell_type": "markdown",
   "metadata": {},
   "source": [
    "- Google APIs: https://console.developers.google.com/apis/library?project=cp255-185021\n",
    "- Facebook: https://developers.facebook.com/docs/apis-and-sdks/\n",
    "- Twitter: https://developer.twitter.com/en/docs/api-reference-index.html"
   ]
  },
  {
   "cell_type": "markdown",
   "metadata": {},
   "source": [
    "**Note**: when accessing data via API, many services will require you to register an API key to prevent you from overloading the service with requests"
   ]
  },
  {
   "cell_type": "markdown",
   "metadata": {},
   "source": [
    "## Reading an automated data feed"
   ]
  },
  {
   "cell_type": "markdown",
   "metadata": {},
   "source": [
    "USGS real-time earthquake feeds\n",
    "This is an API for near-real-time data about earthquakes, and data is provided in GeoJSON format over the web.\n",
    "\n",
    "The API has a separate endpoint for each version of the data that users might want. No authentication is required."
   ]
  },
  {
   "cell_type": "markdown",
   "metadata": {},
   "source": [
    "API documentation:\n",
    "\n",
    "http://earthquake.usgs.gov/earthquakes/feed/v1.0/geojson.php\n",
    "\n",
    "Sample API endpoint, for magnitude 4.5+ earthquakes in past day:\n",
    "\n",
    "https://earthquake.usgs.gov/earthquakes/feed/v1.0/summary/4.5_day.geojson"
   ]
  },
  {
   "cell_type": "markdown",
   "metadata": {},
   "source": [
    "#### GeoPandas can read GeoJSON from the web directly\n",
    "\n",
    "Simply pass the URL to the `gpd.read_file()` function:"
   ]
  },
  {
   "cell_type": "code",
   "execution_count": 10,
   "metadata": {},
   "outputs": [],
   "source": [
    "import geopandas as gpd\n",
    "import pandas as pd"
   ]
  },
  {
   "cell_type": "code",
   "execution_count": 36,
   "metadata": {},
   "outputs": [],
   "source": [
    "# download data on magnitude 4.5+ quakes from the past week\n",
    "endpoint_url = \"http://earthquake.usgs.gov/earthquakes/feed/v1.0/summary/4.5_week.geojson\"\n",
    "df = gpd.read_file(endpoint_url)"
   ]
  },
  {
   "cell_type": "code",
   "execution_count": 41,
   "metadata": {},
   "outputs": [
    {
     "data": {
      "text/html": [
       "<div>\n",
       "<style scoped>\n",
       "    .dataframe tbody tr th:only-of-type {\n",
       "        vertical-align: middle;\n",
       "    }\n",
       "\n",
       "    .dataframe tbody tr th {\n",
       "        vertical-align: top;\n",
       "    }\n",
       "\n",
       "    .dataframe thead th {\n",
       "        text-align: right;\n",
       "    }\n",
       "</style>\n",
       "<table border=\"1\" class=\"dataframe\">\n",
       "  <thead>\n",
       "    <tr style=\"text-align: right;\">\n",
       "      <th></th>\n",
       "      <th>id</th>\n",
       "      <th>mag</th>\n",
       "      <th>place</th>\n",
       "      <th>time</th>\n",
       "      <th>updated</th>\n",
       "      <th>tz</th>\n",
       "      <th>url</th>\n",
       "      <th>detail</th>\n",
       "      <th>felt</th>\n",
       "      <th>cdi</th>\n",
       "      <th>...</th>\n",
       "      <th>sources</th>\n",
       "      <th>types</th>\n",
       "      <th>nst</th>\n",
       "      <th>dmin</th>\n",
       "      <th>rms</th>\n",
       "      <th>gap</th>\n",
       "      <th>magType</th>\n",
       "      <th>type</th>\n",
       "      <th>title</th>\n",
       "      <th>geometry</th>\n",
       "    </tr>\n",
       "  </thead>\n",
       "  <tbody>\n",
       "    <tr>\n",
       "      <td>0</td>\n",
       "      <td>us6000behm</td>\n",
       "      <td>4.8</td>\n",
       "      <td>south of Tonga</td>\n",
       "      <td>1597361670357</td>\n",
       "      <td>1597363537040</td>\n",
       "      <td>None</td>\n",
       "      <td>https://earthquake.usgs.gov/earthquakes/eventp...</td>\n",
       "      <td>https://earthquake.usgs.gov/earthquakes/feed/v...</td>\n",
       "      <td>NaN</td>\n",
       "      <td>NaN</td>\n",
       "      <td>...</td>\n",
       "      <td>,us,</td>\n",
       "      <td>,origin,phase-data,</td>\n",
       "      <td>NaN</td>\n",
       "      <td>7.057</td>\n",
       "      <td>1.08</td>\n",
       "      <td>96.0</td>\n",
       "      <td>mb</td>\n",
       "      <td>earthquake</td>\n",
       "      <td>M 4.8 - south of Tonga</td>\n",
       "      <td>POINT Z (-175.32960 -24.05530 10.00000)</td>\n",
       "    </tr>\n",
       "    <tr>\n",
       "      <td>1</td>\n",
       "      <td>us6000be84</td>\n",
       "      <td>4.8</td>\n",
       "      <td>19 km SE of Obigarm, Tajikistan</td>\n",
       "      <td>1597342035934</td>\n",
       "      <td>1597343188040</td>\n",
       "      <td>None</td>\n",
       "      <td>https://earthquake.usgs.gov/earthquakes/eventp...</td>\n",
       "      <td>https://earthquake.usgs.gov/earthquakes/feed/v...</td>\n",
       "      <td>NaN</td>\n",
       "      <td>NaN</td>\n",
       "      <td>...</td>\n",
       "      <td>,us,</td>\n",
       "      <td>,origin,phase-data,</td>\n",
       "      <td>NaN</td>\n",
       "      <td>0.544</td>\n",
       "      <td>1.04</td>\n",
       "      <td>73.0</td>\n",
       "      <td>mb</td>\n",
       "      <td>earthquake</td>\n",
       "      <td>M 4.8 - 19 km SE of Obigarm, Tajikistan</td>\n",
       "      <td>POINT Z (69.84650 38.58040 7.57000)</td>\n",
       "    </tr>\n",
       "    <tr>\n",
       "      <td>2</td>\n",
       "      <td>us6000be7p</td>\n",
       "      <td>4.6</td>\n",
       "      <td>143 km SSW of Lotofagā, Samoa</td>\n",
       "      <td>1597340175363</td>\n",
       "      <td>1597347919040</td>\n",
       "      <td>None</td>\n",
       "      <td>https://earthquake.usgs.gov/earthquakes/eventp...</td>\n",
       "      <td>https://earthquake.usgs.gov/earthquakes/feed/v...</td>\n",
       "      <td>NaN</td>\n",
       "      <td>NaN</td>\n",
       "      <td>...</td>\n",
       "      <td>,us,</td>\n",
       "      <td>,origin,phase-data,</td>\n",
       "      <td>NaN</td>\n",
       "      <td>1.387</td>\n",
       "      <td>0.78</td>\n",
       "      <td>113.0</td>\n",
       "      <td>mb</td>\n",
       "      <td>earthquake</td>\n",
       "      <td>M 4.6 - 143 km SSW of Lotofagā, Samoa</td>\n",
       "      <td>POINT Z (-172.56400 -15.07840 10.00000)</td>\n",
       "    </tr>\n",
       "    <tr>\n",
       "      <td>3</td>\n",
       "      <td>us6000be26</td>\n",
       "      <td>5.0</td>\n",
       "      <td>Tanzania</td>\n",
       "      <td>1597330494139</td>\n",
       "      <td>1597339972063</td>\n",
       "      <td>None</td>\n",
       "      <td>https://earthquake.usgs.gov/earthquakes/eventp...</td>\n",
       "      <td>https://earthquake.usgs.gov/earthquakes/feed/v...</td>\n",
       "      <td>9.0</td>\n",
       "      <td>2.6</td>\n",
       "      <td>...</td>\n",
       "      <td>,us,</td>\n",
       "      <td>,dyfi,origin,phase-data,</td>\n",
       "      <td>NaN</td>\n",
       "      <td>11.655</td>\n",
       "      <td>1.16</td>\n",
       "      <td>119.0</td>\n",
       "      <td>mww</td>\n",
       "      <td>earthquake</td>\n",
       "      <td>M 5.0 - Tanzania</td>\n",
       "      <td>POINT Z (39.89240 -7.39120 10.00000)</td>\n",
       "    </tr>\n",
       "    <tr>\n",
       "      <td>4</td>\n",
       "      <td>us6000bduv</td>\n",
       "      <td>5.7</td>\n",
       "      <td>Unimak Island region, Alaska</td>\n",
       "      <td>1597300798034</td>\n",
       "      <td>1597366201875</td>\n",
       "      <td>None</td>\n",
       "      <td>https://earthquake.usgs.gov/earthquakes/eventp...</td>\n",
       "      <td>https://earthquake.usgs.gov/earthquakes/feed/v...</td>\n",
       "      <td>NaN</td>\n",
       "      <td>NaN</td>\n",
       "      <td>...</td>\n",
       "      <td>,at,us,ak,</td>\n",
       "      <td>,ground-failure,impact-link,losspager,moment-t...</td>\n",
       "      <td>NaN</td>\n",
       "      <td>1.374</td>\n",
       "      <td>0.86</td>\n",
       "      <td>119.0</td>\n",
       "      <td>mww</td>\n",
       "      <td>earthquake</td>\n",
       "      <td>M 5.7 - Unimak Island region, Alaska</td>\n",
       "      <td>POINT Z (-163.69730 53.42000 10.43000)</td>\n",
       "    </tr>\n",
       "  </tbody>\n",
       "</table>\n",
       "<p>5 rows × 28 columns</p>\n",
       "</div>"
      ],
      "text/plain": [
       "           id  mag                            place           time  \\\n",
       "0  us6000behm  4.8                   south of Tonga  1597361670357   \n",
       "1  us6000be84  4.8  19 km SE of Obigarm, Tajikistan  1597342035934   \n",
       "2  us6000be7p  4.6    143 km SSW of Lotofagā, Samoa  1597340175363   \n",
       "3  us6000be26  5.0                         Tanzania  1597330494139   \n",
       "4  us6000bduv  5.7     Unimak Island region, Alaska  1597300798034   \n",
       "\n",
       "         updated    tz                                                url  \\\n",
       "0  1597363537040  None  https://earthquake.usgs.gov/earthquakes/eventp...   \n",
       "1  1597343188040  None  https://earthquake.usgs.gov/earthquakes/eventp...   \n",
       "2  1597347919040  None  https://earthquake.usgs.gov/earthquakes/eventp...   \n",
       "3  1597339972063  None  https://earthquake.usgs.gov/earthquakes/eventp...   \n",
       "4  1597366201875  None  https://earthquake.usgs.gov/earthquakes/eventp...   \n",
       "\n",
       "                                              detail  felt  cdi  ...  \\\n",
       "0  https://earthquake.usgs.gov/earthquakes/feed/v...   NaN  NaN  ...   \n",
       "1  https://earthquake.usgs.gov/earthquakes/feed/v...   NaN  NaN  ...   \n",
       "2  https://earthquake.usgs.gov/earthquakes/feed/v...   NaN  NaN  ...   \n",
       "3  https://earthquake.usgs.gov/earthquakes/feed/v...   9.0  2.6  ...   \n",
       "4  https://earthquake.usgs.gov/earthquakes/feed/v...   NaN  NaN  ...   \n",
       "\n",
       "      sources                                              types nst    dmin  \\\n",
       "0        ,us,                                ,origin,phase-data, NaN   7.057   \n",
       "1        ,us,                                ,origin,phase-data, NaN   0.544   \n",
       "2        ,us,                                ,origin,phase-data, NaN   1.387   \n",
       "3        ,us,                           ,dyfi,origin,phase-data, NaN  11.655   \n",
       "4  ,at,us,ak,  ,ground-failure,impact-link,losspager,moment-t... NaN   1.374   \n",
       "\n",
       "    rms    gap magType        type                                    title  \\\n",
       "0  1.08   96.0      mb  earthquake                   M 4.8 - south of Tonga   \n",
       "1  1.04   73.0      mb  earthquake  M 4.8 - 19 km SE of Obigarm, Tajikistan   \n",
       "2  0.78  113.0      mb  earthquake    M 4.6 - 143 km SSW of Lotofagā, Samoa   \n",
       "3  1.16  119.0     mww  earthquake                         M 5.0 - Tanzania   \n",
       "4  0.86  119.0     mww  earthquake     M 5.7 - Unimak Island region, Alaska   \n",
       "\n",
       "                                  geometry  \n",
       "0  POINT Z (-175.32960 -24.05530 10.00000)  \n",
       "1      POINT Z (69.84650 38.58040 7.57000)  \n",
       "2  POINT Z (-172.56400 -15.07840 10.00000)  \n",
       "3     POINT Z (39.89240 -7.39120 10.00000)  \n",
       "4   POINT Z (-163.69730 53.42000 10.43000)  \n",
       "\n",
       "[5 rows x 28 columns]"
      ]
     },
     "execution_count": 41,
     "metadata": {},
     "output_type": "execute_result"
    }
   ],
   "source": [
    "df.head()"
   ]
  },
  {
   "cell_type": "markdown",
   "metadata": {},
   "source": [
    "## Let's plot them on a map:"
   ]
  },
  {
   "cell_type": "code",
   "execution_count": 32,
   "metadata": {},
   "outputs": [],
   "source": [
    "from matplotlib import pyplot as plt\n",
    "%matplotlib inline"
   ]
  },
  {
   "cell_type": "code",
   "execution_count": 39,
   "metadata": {},
   "outputs": [
    {
     "data": {
      "image/png": "[encoded data removed]",
      "text/plain": [
       "<Figure size 720x720 with 1 Axes>"
      ]
     },
     "metadata": {
      "needs_background": "light"
     },
     "output_type": "display_data"
    }
   ],
   "source": [
    "fig, ax = plt.subplots(figsize=(10, 10))\n",
    "\n",
    "# plot the country outline\n",
    "world = gpd.read_file(gpd.datasets.get_path(\"naturalearth_lowres\"))\n",
    "world.to_crs(epsg=4326).plot(ax=ax, facecolor=\"none\", edgecolor=\"gray\")\n",
    "\n",
    "# plot the earthquakes\n",
    "df.to_crs(epsg=4326).plot(ax=ax, color=\"crimson\")\n",
    "\n",
    "ax.set_axis_off()"
   ]
  },
  {
   "cell_type": "code",
   "execution_count": null,
   "metadata": {},
   "outputs": [],
   "source": []
  },
  {
   "cell_type": "code",
   "execution_count": null,
   "metadata": {},
   "outputs": [],
   "source": []
  }
 ],
 "metadata": {
  "kernelspec": {
   "display_name": "Python 3",
   "language": "python",
   "name": "python3"
  },
  "language_info": {
   "codemirror_mode": {
    "name": "ipython",
    "version": 3
   },
   "file_extension": ".py",
   "mimetype": "text/x-python",
   "name": "python",
   "nbconvert_exporter": "python",
   "pygments_lexer": "ipython3",
   "version": "3.7.4"
  }
 },
 "nbformat": 4,
 "nbformat_minor": 2
}
